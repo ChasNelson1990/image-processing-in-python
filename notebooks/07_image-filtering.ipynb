{
 "cells": [
  {
   "cell_type": "markdown",
   "metadata": {
    "slideshow": {
     "slide_type": "slide"
    }
   },
   "source": [
    "# Image Filtering\n",
    "\n",
    "*Dr Chas Nelson*\n",
    "\n",
    "*Part of https://github.com/ChasNelson1990/image-processing-in-python*"
   ]
  },
  {
   "cell_type": "markdown",
   "metadata": {
    "slideshow": {
     "slide_type": "subslide"
    }
   },
   "source": [
    "## Objectives\n",
    "\n",
    "* Appreciate the capabilities of `scikit-image` for image processing in a Python environment\n",
    "* Apply known image processing techniques (e.g. smoothing) in a Python environment\n",
    "* **DENOISING**"
   ]
  },
  {
   "cell_type": "markdown",
   "metadata": {},
   "source": [
    "* Many image processing tasks include filtering, either in the spatial or frequency domain.\n",
    "* Again, `scitkit-image` has many of these filters built in to the submodule `scikit-image.filters`."
   ]
  },
  {
   "cell_type": "markdown",
   "metadata": {},
   "source": [
    "<div style=\"background-color:#abd9e9; border-radius: 5px; padding: 10pt\"><strong>Task:</strong> Using the <a href=\"https://scikit-image.org/docs/stable/api/skimage.filters.html\"><code>skimage.filters</code></a> submodule create a figure with a crop of the original slice (256-by-256 pixels, centred) and the results of applying a Gaussian blue; median filter; unsharp mask; sobel edge filter; and Meijering neuriteness ridge oeprator of the cropped region.</div>"
   ]
  },
  {
   "cell_type": "markdown",
   "metadata": {},
   "source": [
    "## Keypoints\n",
    "\n",
    "* `scikit-image` provides a wide range of tools for image processing in a Python environment\n",
    "* Applying a range of simple image filters (e.g. smoothing) is easy with `scikit-image.filters`\n",
    "* **DENOISING**"
   ]
  },
  {
   "cell_type": "markdown",
   "metadata": {},
   "source": [
    "## Any Bugs/Issues/Comments?\n",
    "\n",
    "If you've found a bug or have any comments about this notebook, please fill out this on-line form:\n",
    "\n",
    "Any feedback I get I will try to correct/implement as soon as possible."
   ]
  }
 ],
 "metadata": {
  "kernelspec": {
   "display_name": "Python 3",
   "language": "python",
   "name": "python3"
  },
  "language_info": {
   "codemirror_mode": {
    "name": "ipython",
    "version": 3
   },
   "file_extension": ".py",
   "mimetype": "text/x-python",
   "name": "python",
   "nbconvert_exporter": "python",
   "pygments_lexer": "ipython3",
   "version": "3.8.2"
  },
  "widgets": {
   "application/vnd.jupyter.widget-state+json": {
    "state": {},
    "version_major": 2,
    "version_minor": 0
   }
  }
 },
 "nbformat": 4,
 "nbformat_minor": 4
}
