{
 "cells": [
  {
   "cell_type": "markdown",
   "metadata": {
    "slideshow": {
     "slide_type": "slide"
    }
   },
   "source": [
    "# Multi-dimensional Images\n",
    "\n",
    "*Dr Chas Nelson*\n",
    "\n",
    "*Part of https://github.com/ChasNelson1990/image-processing-in-python*"
   ]
  },
  {
   "cell_type": "markdown",
   "metadata": {
    "slideshow": {
     "slide_type": "slide"
    }
   },
   "source": [
    "## Objectives\n",
    "\n",
    "* Understand how images with up to 6 dimensions can be held as NumPy arrays\n",
    "* Be able to manipulate multidimensional NumPy arryas\n",
    "* Be able to visualise 3D images as either slices or maximum intensity projections\n",
    "* **NAPARI**"
   ]
  },
  {
   "cell_type": "markdown",
   "metadata": {
    "slideshow": {
     "slide_type": "slide"
    }
   },
   "source": [
    "### Working in More Than Two Dimensions\n",
    "\n",
    "* Python is able to use arrays of N dimensions.\n",
    "* In microscopy, we're likely to need up to 6: $x$, $y$, $z$, $t$ and $\\lambda$.\n",
    "* For computational efficiency, in multidimensional scenarios, we will treat the first axis for time, the second for z-slice the third as $x$, the fourth as $y$, and the fifth as colour/wavelength ($\\lambda$). (The last three dimensions are as previously described.)\n",
    "* You may choose a different dimension order depending on your analysis needs, e.g. if you are treating each channel differently then it make make more sense for $\\lambda$ to be the first dimension.\n",
    "\n",
    "![Python can cope with arryas that have N dimensions.](https://fgnt.github.io/python_crashkurs_doc/_images/numpy_array_t.png)\n",
    "\n",
    "*From https://github.com/elegant-scipy/elegant-scipy*"
   ]
  },
  {
   "cell_type": "code",
   "execution_count": null,
   "metadata": {},
   "outputs": [],
   "source": [
    "# Create an array of a Gaussian disc with values between 0 and 1024 (exclusive)\n",
    "# The array has ten rows and fifteen columns and five z-slices\n",
    "\n",
    "# Create a 3-channel array of offset Gaussian discs with values  between 0 and 8 (exclusive)\n",
    "# The array has ten rows and fifteen columns\n",
    "\n",
    "rows = 10\n",
    "columns = 15\n",
    "slices = 5\n",
    "z, x, y = np.meshgrid(np.linspace(-1,1,slices), np.linspace(-1,1,rows), np.linspace(-1,1,columns), indexing='ij')\n",
    "d = np.sqrt(x**2+y**2+z**2)\n",
    "sigma = 0.5\n",
    "my3DArray = ((2**8-1)*np.exp(-( (d)**2 / ( 2.0 * sigma**2 ) ))).astype('uint8')\n",
    "\n",
    "display(my3DArray.shape)"
   ]
  },
  {
   "cell_type": "code",
   "execution_count": null,
   "metadata": {},
   "outputs": [],
   "source": [
    "# Plot X-MIP, Y-MIP and Z-MIP using Matplotlib\n",
    "f, axes = plt.subplots(2,2, gridspec_kw={'height_ratios':[rows/(rows+slices),slices/(rows+slices)],\n",
    "                                         'hspace':0.5,\n",
    "                                         'width_ratios':[slices/(columns+slices),columns/(columns+slices)]})  # Create four subplots (2x2 grid), grispec_kw is used to keep subplots proportional\n",
    "# note: the current Jupyter Lab widget for matplotlib likes to stretch figures across the viewer width - hence the big gap between the left and right\n",
    "(XZ, XY, null, ZY) = axes.flatten()\n",
    "f.suptitle(\"Maximum Intensity Projection...\")\n",
    "\n",
    "ZY.imshow(my3DArray.max(axis=1), aspect=1.0, cmap=\"gray\", interpolation='none')  # aspect can be set to the ratio between the z and y pixel size\n",
    "ZY.grid(False)\n",
    "# ZY.set_ylim(0,10)  # This and the next line are just a hacky fix to keep proportions the same for all subplots\n",
    "# ZY.set_yticks(np.arange(0,slices))\n",
    "ZY.set_title(\"...over X\")\n",
    "\n",
    "XZ.imshow(my3DArray.max(axis=2).T, aspect=1.0, cmap=\"gray\", interpolation='none')  # aspect can be set to the ratio between the x and z pixel size\n",
    "XZ.grid(False)\n",
    "XZ.set_title(\"...over Y\")\n",
    "\n",
    "XY.imshow(my3DArray.max(axis=0), aspect=1.0, cmap=\"gray\", interpolation='none')  # aspect can be set to the ratio between the x and y pixel size\n",
    "XY.grid(False)\n",
    "XY.set_title(\"...over Z\")\n",
    "\n",
    "null.set_axis_off()  # clear unused subplot\n",
    "\n",
    "# Challenge: have a think about the intensity scaling that's going on here, how could that be accounted for?\n",
    "\n",
    "plt.show()"
   ]
  },
  {
   "cell_type": "code",
   "execution_count": null,
   "metadata": {},
   "outputs": [],
   "source": [
    "# Now use ipywidgets slider to scroll through the z-slices\n",
    "import ipywidgets as widgets\n",
    "import IPython.display as ipyd\n",
    "\n",
    "#  Function to update slice on widget change\n",
    "def update_slice(value):\n",
    "    ax.imshow(my3DArray[value['new'],:,:], cmap='gray', vmin=my3DArray.min(), vmax=my3DArray.max(), interpolation='none')\n",
    "    slice_label.value = 'Currently viewing slice {0} of {1}'.format(slice_slider.value,my3DArray.shape[0])\n",
    "\n",
    "# Define starting plot\n",
    "f, ax = plt.subplots(1,1)  # Create one subplot (1x1 grid)\n",
    "ax.grid(False)\n",
    "ax.set_title('Z-slice Viewer')\n",
    "ax.imshow(my3DArray[0,:,:], cmap='gray', vmin=my3DArray.min(), vmax=my3DArray.max(), interpolation='none')\n",
    "\n",
    "# Define widget\n",
    "slice_slider = widgets.IntSlider(0, min = 0, max = my3DArray.shape[0])\n",
    "slice_label = widgets.Label(value = 'Currently viewing slice {0} of {1}'.format(slice_slider.value,my3DArray.shape[0]))\n",
    "\n",
    "slice_slider.observe(update_slice, names = 'value')\n",
    "\n",
    "plt.show()\n",
    "ipyd.display(slice_slider, slice_label)"
   ]
  },
  {
   "cell_type": "markdown",
   "metadata": {},
   "source": [
    "## Napari"
   ]
  },
  {
   "cell_type": "code",
   "execution_count": null,
   "metadata": {},
   "outputs": [],
   "source": []
  },
  {
   "cell_type": "markdown",
   "metadata": {},
   "source": [
    "## Key Points\n",
    "\n",
    "* In bioimaging we may acquire complex data with 6 (or more) dimensions: 𝑥, 𝑦, 𝑧, 𝑡 and 𝜆\n",
    "* In Python we can represent this data as a NumPy array with 6 axes\n",
    "* In this course, axes correspond to image dimensions $t$, $z$, $x$, $y$, $\\lambda$ in that order\n",
    "* NumPy slicing allows us to access individual slices/channels\n",
    "* Using matplotlib and ipywidgets it is possible to create a quick tool for scrolling through slices of multidimensional images\n",
    "* Using matplotlib it is possible to quickly display maximuum intensity projections of multidimensional images\n",
    "* **NAPARI**"
   ]
  },
  {
   "cell_type": "markdown",
   "metadata": {},
   "source": [
    "## Any Bugs/Issues/Comments?\n",
    "\n",
    "If you've found a bug or have any comments about this notebook, please fill out this on-line form:\n",
    "\n",
    "Any feedback I get I will try to correct/implement as soon as possible."
   ]
  }
 ],
 "metadata": {
  "kernelspec": {
   "display_name": "Python 3",
   "language": "python",
   "name": "python3"
  },
  "language_info": {
   "codemirror_mode": {
    "name": "ipython",
    "version": 3
   },
   "file_extension": ".py",
   "mimetype": "text/x-python",
   "name": "python",
   "nbconvert_exporter": "python",
   "pygments_lexer": "ipython3",
   "version": "3.8.2"
  }
 },
 "nbformat": 4,
 "nbformat_minor": 4
}
