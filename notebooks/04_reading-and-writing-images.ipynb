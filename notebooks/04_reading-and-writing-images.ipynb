{
 "cells": [
  {
   "cell_type": "markdown",
   "metadata": {
    "slideshow": {
     "slide_type": "slide"
    }
   },
   "source": [
    "# Reading/Writing Images in Python\n",
    "\n",
    "*Dr Chas Nelson*\n",
    "\n",
    "*Part of https://github.com/ChasNelson1990/image-processing-in-python*"
   ]
  },
  {
   "cell_type": "markdown",
   "metadata": {
    "slideshow": {
     "slide_type": "slide"
    }
   },
   "source": [
    "## Objectives\n",
    "\n",
    "* Be able to read multidimensional image stacks, primarily multi-page TIFF files\n",
    "* Be able to write multidimensional NumPy arrays to multi-page TIFF files"
   ]
  },
  {
   "cell_type": "markdown",
   "metadata": {},
   "source": [
    "## Data\n",
    "\n",
    "The image we will use for the rest of this tutorial is from the Broad Bioimage Benchmark Collection data set BBBC0034v1 (https://data.broadinstitute.org/bbbc/; Thirstrup et al. 2018).\n",
    "\n",
    "See https://data.broadinstitute.org/bbbc/BBBC034/ for the full description; however, the key points are:\n",
    "\n",
    "* $1024 \\times 1024 \\times 52$ pixels\n",
    "* $65 \\times 65 \\times 290$ nm/pixel\n",
    "* 4 channels (each stored as separate files):\n",
    "  * Cell membrane label (C=0)\n",
    "  * Actin label (C=1)\n",
    "  * DNA label (C=2)\n",
    "  * Brightfield image (C=3)"
   ]
  },
  {
   "cell_type": "code",
   "execution_count": null,
   "metadata": {},
   "outputs": [],
   "source": [
    "# Run this cell to download and unzip the images we need\n",
    "# You do not need to understand it, but happy to explain during coffee\n",
    "# You only need to run this cell once and then you may comment it out\n",
    "import urllib.request\n",
    "import io\n",
    "import zipfile\n",
    "import os\n",
    "from tqdm import tqdm_notebook, tnrange\n",
    "\n",
    "url = 'https://data.broadinstitute.org/bbbc/BBBC034/BBBC034_v1_dataset.zip'\n",
    "\n",
    "with urllib.request.urlopen(url) as response:\n",
    "    print(\"Downloading...\")\n",
    "    length = int(response.getheader('content-length'))\n",
    "    chunk = max(4096, length//9999)\n",
    "    \n",
    "    buffer = io.BytesIO()\n",
    "    size = 0\n",
    "    for b in tnrange(length//chunk + 1):\n",
    "        block = response.read(chunk)\n",
    "        if not block:\n",
    "            print(\"Finished reading after {0}% of file.\".format(size/length))\n",
    "        buffer.write(block)\n",
    "        size = size + len(block)\n",
    "    print(\"Finished reading file.\")\n",
    "    \n",
    "    print(\"Unzipping... \",end=\"\")\n",
    "    zf = zipfile.ZipFile(buffer)\n",
    "    os.makedirs('./assets/bbbc034v1/',exist_ok=True)\n",
    "    zf.extractall(path='./assets/bbbc034v1')\n",
    "    print(\"Complete.\")"
   ]
  },
  {
   "cell_type": "markdown",
   "metadata": {},
   "source": [
    "## Reading Multidimensional TIF files\n",
    "\n",
    "We will use the [`tifffile` plug-in](https://www.lfd.uci.edu/~gohlke/code/tifffile.py.html) for reading and writing multidimensional TIF files. This is includedas part of the [`io` submodule](https://scikit-image.org/docs/stable/api/skimage.io.html) within the popular image processing module [`scikit-image`](https://scikit-image.org).\n",
    "\n",
    "The `imread` function is able to deal with any multidimensional TIF file that `tiffile` is capable of reading - this means pretty much any TIF that's compatabile with ImageJ/FIJI.\n",
    "\n",
    "### Aside: Reading 'Collections'\n",
    "\n",
    "* A 'collection' is a series of files containing a single 2D image whose names follow a name pattern, e.g. `file1.tif`, `file2.tif`, `file3.tif` all follow the pattern `file*.tif`.\n",
    "* Collections may represent a time series, where each individual file could be a 2D TIF file, or a z-stack.\n",
    "* One benefit with collections is that `scikit-image` can load frames into memory only when needed.\n",
    "* Collections can read using, for example,\n",
    "\n",
    "```python\n",
    "from skimage import io\n",
    "\n",
    "collection = io.imread_collection('./file*.tif',conserve_memory=True)\n",
    "frame1 = collection[0]\n",
    "```"
   ]
  },
  {
   "cell_type": "code",
   "execution_count": null,
   "metadata": {},
   "outputs": [],
   "source": [
    "from skimage import io\n",
    "\n",
    "# Read a single multidimensional TIF file, in this case a single channel with multiple z-slices.\n",
    "c1 = io.imread('./assets/bbbc034v1/AICS_12_134_C=1.tif')\n",
    "\n",
    "# Confirm that this image is in fact a numpy array\n",
    "display(type(c1))\n",
    "\n",
    "# Metadata for future use later\n",
    "x_pixel_size = 65  # nm\n",
    "y_pixel_size = 65  # nm\n",
    "z_pixel_size = 290  # nm"
   ]
  },
  {
   "cell_type": "markdown",
   "metadata": {},
   "source": [
    "<div style=\"background-color:#abd9e9; border-radius: 5px; padding: 10pt\"><strong>Task:</strong> In the cell below confirm the size of these images in pixels and the bit-depth of the image.</div>"
   ]
  },
  {
   "cell_type": "code",
   "execution_count": null,
   "metadata": {},
   "outputs": [],
   "source": []
  },
  {
   "cell_type": "markdown",
   "metadata": {},
   "source": [
    "<div style=\"background-color:#abd9e9; border-radius: 5px; padding: 10pt\"><strong>Task</strong> Using the codes above, create a new code cell and make a figure showing maximum projections in all three dimensions.</div>"
   ]
  },
  {
   "cell_type": "markdown",
   "metadata": {},
   "source": [
    "<div style=\"background-color:#abd9e9; border-radius: 5px; padding: 10pt\"><strong>Task</strong> Using the codes above, create a new code cell and make an interactive figure allowing you to scroll through $z$.</div>"
   ]
  },
  {
   "cell_type": "markdown",
   "metadata": {},
   "source": [
    "<div style=\"background-color:#abd9e9; border-radius: 5px; padding: 10pt\"><strong>Task</strong> Using the information above, read the other three channels for this data into the variables <code>c0</code>, <code>c2</code> and <code>c3</code>.</div>"
   ]
  },
  {
   "cell_type": "code",
   "execution_count": null,
   "metadata": {},
   "outputs": [],
   "source": []
  },
  {
   "cell_type": "markdown",
   "metadata": {},
   "source": [
    "<div style=\"background-color:#abd9e9; border-radius: 5px; padding: 10pt\"><strong>Task</strong> Use your existing Python skills to combine these four arrays into a single, 4D NumPy array called <code>my4DArray</code>. Print its shape to confirm your dimensions are in the right order.</div>"
   ]
  },
  {
   "cell_type": "markdown",
   "metadata": {},
   "source": [
    "## Saving Multidimensional TIF files\n",
    "\n",
    "Like `imread`, the `scitkit-image` function `imsave` is able to deal with any multidimensional TIF file that `tiffile` is capable of saving - again, this means pretty much any TIF file that's compatabile with ImageJ/FIJI.\n",
    "\n",
    "We can also include metadata in our TIF file, which ImageJ/FIJI can then read and use as appropriate."
   ]
  },
  {
   "cell_type": "code",
   "execution_count": null,
   "metadata": {},
   "outputs": [],
   "source": [
    "# Save our multicolour stack to a new ImageJ-compatible TIF file\n",
    "# tifffile wants our array to be in TZCYXS order for imageJ compatibility\n",
    "my4DArray = np.moveaxis(my4DArray,-1,1)  # so move C from the end to second dimension\n",
    "io.imsave('./assets/bbbc034v1/AICS_12_134_C=all.tif',\n",
    "          my4DArray,\n",
    "          imagej=True,\n",
    "          resolution=(1/x_pixel_size,1/y_pixel_size),\n",
    "          metadata={'spacing':z_pixel_size,'unit':'nm'})"
   ]
  },
  {
   "cell_type": "markdown",
   "metadata": {},
   "source": [
    "<div style=\"background-color:#abd9e9; border-radius: 5px; padding: 10pt\"><strong>Task</strong> Open your new file in ImageJ/FIJI and check that the dimensions are correct and that the metadata has been read.</div>"
   ]
  },
  {
   "cell_type": "markdown",
   "metadata": {},
   "source": [
    "## Key Points\n",
    "\n",
    "* We can use `scikit-image` to read and write multidimensional TIF files\n",
    "* Multidimensional image stacks, e.g. multi-page TIFF files, can be read into Python and NumPy arrays with `imread`\n",
    "* Multidimensional NumPy arrays can be saved as image files, e.g. ImageJ-compatible TIFF files with `imwrite`"
   ]
  },
  {
   "cell_type": "markdown",
   "metadata": {},
   "source": [
    "## Any Bugs/Issues/Comments?\n",
    "\n",
    "If you've found a bug or have any comments about this notebook, please fill out this on-line form:\n",
    "\n",
    "Any feedback I get I will try to correct/implement as soon as possible."
   ]
  }
 ],
 "metadata": {
  "kernelspec": {
   "display_name": "Python 3",
   "language": "python",
   "name": "python3"
  },
  "language_info": {
   "codemirror_mode": {
    "name": "ipython",
    "version": 3
   },
   "file_extension": ".py",
   "mimetype": "text/x-python",
   "name": "python",
   "nbconvert_exporter": "python",
   "pygments_lexer": "ipython3",
   "version": "3.8.2"
  }
 },
 "nbformat": 4,
 "nbformat_minor": 4
}
