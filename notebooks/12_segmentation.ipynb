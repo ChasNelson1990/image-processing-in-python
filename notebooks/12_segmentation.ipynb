{
 "cells": [
  {
   "cell_type": "markdown",
   "metadata": {
    "slideshow": {
     "slide_type": "slide"
    }
   },
   "source": [
    "# Segmentation by Thresholding\n",
    "\n",
    "*Dr Chas Nelson*\n",
    "\n",
    "*Part of https://github.com/ChasNelson1990/image-processing-in-python*"
   ]
  },
  {
   "cell_type": "markdown",
   "metadata": {
    "slideshow": {
     "slide_type": "subslide"
    }
   },
   "source": [
    "## Objectives\n",
    "\n",
    "* Relate global grayscale thresholding and the logical array to segmentation and binary images"
   ]
  },
  {
   "cell_type": "markdown",
   "metadata": {},
   "source": [
    "## Segmentation\n",
    "\n",
    "* Here we must introduce the Python concept of Boolean or logical values: i.e. True and False\n",
    "* True and False can be represented in arrays of `dtype` 'logical' or as arrays of 1s and 0s.\n",
    "  * In both cases these are essentailly black and white images and can be displayed and processing as such\n",
    "* There are two groups of thresholding algorithms available in `sciki-image`:\n",
    "  1. Thresholding (found in `skimage.filters`), including Otsu and hysteresis thresholding\n",
    "  2. More complex segmentation algorithms, e.g. active contours and the watershed algorithm (found in `skimage.segmentation`)\n",
    "\n",
    "## ... by Thresholding\n",
    "\n",
    "* Usually we would combine thresholding with pre-processing, e.g. noise reduction or deconvolution, and post-processing, e.g. morphological operations to fill holes and smooth the resulting segmentation."
   ]
  },
  {
   "cell_type": "markdown",
   "metadata": {},
   "source": [
    "<div style=\"background-color:#abd9e9; border-radius: 5px; padding: 10pt\"><strong>Task:</strong> Using the very helpful <a href=\"https://scikit-image.org/docs/stable/api/skimage.filters.html#skimage.filters.try_all_threshold\"><code>skimage.filters.try_all_threshold</code></a> function see what a single slice of our nuclei-labelled channel looks like after different thresholding approaches.</div>"
   ]
  },
  {
   "cell_type": "markdown",
   "metadata": {},
   "source": [
    "<div style=\"background-color:#abd9e9; border-radius: 5px; padding: 10pt\"><strong>Task:</strong> Pick the best segmentation by thresholding from your results and apply morphological (binary) closing, using <a href=\"https://scikit-image.org/docs/stable/api/skimage.morphology.html#skimage.morphology.binary_closing\"><code>skimage.morphology.binary_closing</code></a>, to fill the small holes for a cleaner segmentation.</div>"
   ]
  },
  {
   "cell_type": "markdown",
   "metadata": {},
   "source": [
    "## ...by Other Approaches\n",
    "\n",
    "* Some more complex methods for segmentation are also provided by `scikit-image`, including a few active contour-related methods and an implementation of the popular watershed algorithm."
   ]
  },
  {
   "cell_type": "markdown",
   "metadata": {},
   "source": [
    "<div style=\"background-color:#abd9e9; border-radius: 5px; padding: 10pt\"><strong>Task:</strong> In a new cell, use <a href=\"https://scikit-image.org/docs/stable/api/skimage.segmentation.html#skimage.segmentation.watershed\"><code>skimage.segmentation.watershed</code></a> to segment a single slice from our image (hint: there are 23 nuclei visible in the central slice).</div>"
   ]
  },
  {
   "cell_type": "markdown",
   "metadata": {},
   "source": [
    "<div style=\"background-color:#abd9e9; border-radius: 5px; padding: 10pt\"><strong>Task:</strong>In a new cell, use <a href=\"https://scikit-image.org/docs/stable/api/skimage.segmentation.html#skimage.segmentation.morphological_geodesic_active_contour\"><code>skimage.segmentation.morphological_geodesic_active_contour</code></a> to segment a single slice from our image (hint: try <code>init_level_set=np.ones(myNucleiSlice.shape)</code> and <code>balloon=-1</code>).</div>"
   ]
  },
  {
   "cell_type": "markdown",
   "metadata": {},
   "source": [
    "## Keypoints\n",
    "\n",
    "* "
   ]
  },
  {
   "cell_type": "markdown",
   "metadata": {},
   "source": [
    "## Any Bugs/Issues/Comments?\n",
    "\n",
    "If you've found a bug or have any comments about this notebook, please fill out this on-line form:\n",
    "\n",
    "Any feedback I get I will try to correct/implement as soon as possible."
   ]
  }
 ],
 "metadata": {
  "kernelspec": {
   "display_name": "Python 3",
   "language": "python",
   "name": "python3"
  },
  "language_info": {
   "codemirror_mode": {
    "name": "ipython",
    "version": 3
   },
   "file_extension": ".py",
   "mimetype": "text/x-python",
   "name": "python",
   "nbconvert_exporter": "python",
   "pygments_lexer": "ipython3",
   "version": "3.8.2"
  },
  "widgets": {
   "application/vnd.jupyter.widget-state+json": {
    "state": {},
    "version_major": 2,
    "version_minor": 0
   }
  }
 },
 "nbformat": 4,
 "nbformat_minor": 4
}
