{
 "cells": [
  {
   "cell_type": "markdown",
   "metadata": {
    "slideshow": {
     "slide_type": "slide"
    }
   },
   "source": [
    "# Digital Images and NumPy Arrays\n",
    "\n",
    "*Dr Chas Nelson*\n",
    "\n",
    "*Part of https://github.com/ChasNelson1990/image-processing-in-python*"
   ]
  },
  {
   "cell_type": "markdown",
   "metadata": {
    "slideshow": {
     "slide_type": "slide"
    }
   },
   "source": [
    "## Objectives\n",
    "\n",
    "* Understand how NumPy arrays can represent digital images\n",
    "* Know how NumPy axes relates to image dimensions\n",
    "* Learn how colour is represented by an adiditional axis in NumPy arrays \n",
    "* Understand how spatial and intensity sampling of an image relate to array size and `dtype` of NumPY arrays"
   ]
  },
  {
   "cell_type": "markdown",
   "metadata": {
    "slideshow": {
     "slide_type": "slide"
    }
   },
   "source": [
    "## What is a Digital Image?\n",
    "\n",
    "* Digital images are arrays or matrices of pixels (picture elements), i.e. numbers, that represent an object or scene.\n",
    "  * Unless otherwise states we will assume these numbers are integers.\n",
    "* In a grayscale image, each of these numbers is the intensity.\n",
    "* A grayscale image usually represents a narrow band of wavelengths, i.e. a colour or channel.\n",
    "  * Multiple grayscale images together can form a colour image, e.g. RGB.\n",
    "\n",
    "![Digital images are arrays or matrices of pixels (or voxels) - i.e. numbers.](./assets/digitalimage.png)\n",
    "\n",
    "*Courtesy of Dominic Waithe; apple from https://www.wikipiedia.org*\n",
    "\n",
    "* We can navigate a 2D image by using row and column numbers to extract a single pixel value.\n",
    "  * People use two coordinate systems for this: $i$ & $j$ or $x$ and $y$.\n",
    "  * We will use $x$ for rows and $y$ for columns throughout this course. $x=0, y=0$ is the top left corner of the image.\n",
    "  * (We will introduce higher dimensions as and when necessary.)\n",
    "  \n",
    "![Acessing pixels using axes.](./assets/arrays.png)\n",
    "\n",
    "*Adapted from https://github.com/elegant-scipy/elegant-scipy*"
   ]
  },
  {
   "cell_type": "markdown",
   "metadata": {
    "slideshow": {
     "slide_type": "subslide"
    }
   },
   "source": [
    "## What is a NumPy Array?\n",
    "\n",
    "* In Python, NumPy Arrays are arrays or matrices of numbers, as such we can use arrays to represent digital images.\n",
    "* For the representation of a grayscale image, we would use an array with as many rows and columns as the each of these numbers in the grayvalue.\n",
    "* We can navigate an array by using row and column numbers to extract a single element - this is called indexing.\n",
    "  * Don't forget that Python starts counting at $0$ and not at $1$\n",
    "  * As with digital images, we will use $x$ for rows and $y$ for columns throughout this course. $x=0, y=0$ is the top left corner of the array.\n",
    "  * Note: Python and FIJI swap $x$ and $y$, so the data will be transposed."
   ]
  },
  {
   "cell_type": "code",
   "execution_count": null,
   "metadata": {
    "slideshow": {
     "slide_type": "fragment"
    }
   },
   "outputs": [],
   "source": [
    "import numpy as np\n",
    "\n",
    "# Create an array of a Guassian disc with values between 0 and 8\n",
    "# The array has ten rows and fitteen columns\n",
    "# Don't worry too much about this code - it just creates a toy example\n",
    "\n",
    "rows = 10\n",
    "columns = 15\n",
    "x, y = np.meshgrid(np.linspace(-1,1,columns), np.linspace(-1,1,rows))\n",
    "d = np.sqrt(x*x+y*y)\n",
    "sigma = 0.5\n",
    "myGaussianDisc = (8*np.exp(-( (d)**2 / ( 2.0 * sigma**2 ) ) )).astype('uint8')\n",
    "\n",
    "display(myGaussianDisc)"
   ]
  },
  {
   "cell_type": "code",
   "execution_count": null,
   "metadata": {
    "slideshow": {
     "slide_type": "subslide"
    }
   },
   "outputs": [],
   "source": [
    "# Extract the element value at x=5 and y=6\n",
    "x = 5\n",
    "y = 4\n",
    "display(myGaussianDisc[x,y])"
   ]
  },
  {
   "cell_type": "code",
   "execution_count": null,
   "metadata": {
    "slideshow": {
     "slide_type": "subslide"
    }
   },
   "outputs": [],
   "source": [
    "# Import two key plotting/display packages\n",
    "%matplotlib widget\n",
    "import matplotlib.pyplot as plt\n",
    "import seaborn as sns; sns.set()"
   ]
  },
  {
   "cell_type": "code",
   "execution_count": null,
   "metadata": {
    "slideshow": {
     "slide_type": "subslide"
    }
   },
   "outputs": [],
   "source": [
    "f,axes = plt.subplots(1,2)\n",
    "(aMPL, aSNS) = axes.flatten()\n",
    "\n",
    "# Display array as grayscale image\n",
    "# Note that this autoscales (like ImageJ).\n",
    "# This doesn't affect the underlying array\n",
    "aMPL.imshow(myGaussianDisc, cmap=\"gray\")  # We discuss colourmaps (cmaps, LUTs) below\n",
    "aMPL.set_axis_off()  # This turns axes off\n",
    "aMPL.set_title(\"grayscale Image...\")\n",
    "\n",
    "# Display array as heatmap\n",
    "# Note that this also autoscales.\n",
    "sns.heatmap(myGaussianDisc,cmap=\"viridis\",square=True,annot=True,ax=aSNS)\n",
    "aSNS.set_ylim(0,10)  # Make sure we can see the full array\n",
    "aSNS.invert_yaxis()  # Heatmap and imshow flipx, let's undo that\n",
    "aSNS.set_ylabel('X')  # Note that x and y are swapped for display (compared to indexing and FIJI)\n",
    "aSNS.set_xlabel('Y')  # Note that x and y are swapped for display (compared to indexing and FIJI)\n",
    "aSNS.set_title(\"... as Heatmap\")\n",
    "\n",
    "plt.show()"
   ]
  },
  {
   "cell_type": "markdown",
   "metadata": {
    "slideshow": {
     "slide_type": "subslide"
    }
   },
   "source": [
    "## Colour Digital Images\n",
    "\n",
    "* Colour images have multiple 'channels.\n",
    "* In photography and monitors/screens three such channels represent RGB.\n",
    "* In microscopy we can have any number of channels, each representing a different spectral band, i.e. a different fluorphore."
   ]
  },
  {
   "cell_type": "markdown",
   "metadata": {
    "slideshow": {
     "slide_type": "slide"
    }
   },
   "source": [
    "## 'Colour' NumPy Arrays?\n",
    "\n",
    "* NumPy arrays can have more than two dimensions ($x$ and $y$).\n",
    "* If you're doing a lot of computation, it's conventional to represent channels in the first dimension, as this is quicker for access.\n",
    "  * $x$ and $y$ then become the second and third dimensions, respectively.\n",
    "* However, `matplotlib` expects colour to be the third dimension.\n",
    "  * $x$ and $y$ are then set to the first and second dimension, respecitvely.\n",
    "* We will use `matplotlib`'s convention for 2D images with colour channels."
   ]
  },
  {
   "cell_type": "code",
   "execution_count": null,
   "metadata": {},
   "outputs": [],
   "source": [
    "# Create a 3-channel array of offset Gaussian discs with values  between 0 and 8 (exclusive)\n",
    "# The array has ten rows and fifteen columns\n",
    "\n",
    "rows = 10\n",
    "columns = 15\n",
    "x, y = np.meshgrid(np.linspace(-1,1,columns), np.linspace(-1,1,rows))\n",
    "d = np.sqrt(x*x+y*y)\n",
    "sigma = 0.5\n",
    "disc = (8*np.exp(-( (d)**2 / ( 2.0 * sigma**2 ) ))).astype('uint')\n",
    "myRGBArray = np.stack([disc,np.roll(disc,2,axis=0),np.roll(disc,2,axis=1)],axis=2)\n",
    "\n",
    "print(\"Red:\")\n",
    "display(myRGBArray[:,:,1])"
   ]
  },
  {
   "cell_type": "code",
   "execution_count": null,
   "metadata": {
    "slideshow": {
     "slide_type": "subslide"
    }
   },
   "outputs": [],
   "source": [
    "f, axes = plt.subplots(2,2)  # Create four subplots (2x2 grid)\n",
    "(aR, aG, aB, aRGB) = axes.flatten()\n",
    "\n",
    "aR.imshow(myRGBArray[:,:,0], cmap=\"gray\")  # Displaying individual channels in gray prevents false highlighting of areas\n",
    "aR.set_axis_off()\n",
    "aR.set_title(\"Red Channel\")\n",
    "\n",
    "aG.imshow(myRGBArray[:,:,1], cmap=\"gray\")\n",
    "aG.set_axis_off()\n",
    "aG.set_title(\"Green Channel\")\n",
    "\n",
    "aB.imshow(myRGBArray[:,:,2], cmap=\"gray\")\n",
    "aB.set_axis_off()\n",
    "aB.set_title(\"Blue Channel\")\n",
    "\n",
    "aRGB.imshow(myRGBArray/8)  # Matlab expects values between 0 and 1 or 0 and 255 (see bit-depth below)\n",
    "aRGB.set_axis_off()\n",
    "aRGB.set_title(\"Composite\")\n",
    "\n",
    "plt.show()"
   ]
  },
  {
   "cell_type": "markdown",
   "metadata": {
    "slideshow": {
     "slide_type": "subslide"
    }
   },
   "source": [
    "## Spatial Sampling\n",
    "\n",
    "* The number of pixels in in a image denote the resolution.\n",
    "  * In NumPy, the resolution is the shape of the array, e.g. `myArray.shape`\n",
    "* Each pixel will represent a physical size, e.g. $3 \\mu m \\times 3 \\mu m$ (also often call resolution)\n",
    "  * This is not explicitly coded into a digital image or NumPy array so we will need to be extracted from the metadata.\n",
    "\n",
    "<!-- ![The number of pixels in in a image denote the resolution.](./assets/resolution.png) -->"
   ]
  },
  {
   "cell_type": "markdown",
   "metadata": {
    "slideshow": {
     "slide_type": "subslide"
    }
   },
   "source": [
    "## Intensity Sampling\n",
    "\n",
    "* The bit-depth of an image describes the dynamic range of a pixel, i.e. the difference between the minimum and maximum possible values.\n",
    "  * The equivalent feature of a Numpy array is its `dtype`.\n",
    "* Most DSLR cameras will use 8-bit for grayscale images and 3x8-bit (24-bit) for colour images.\n",
    "  * In NumPy this is `uint8`.\n",
    "* Most scientific cameras will use 12-bit or 16-bit. (Both will appear to be 16-bit due to the container files.)\n",
    "  * In NumPy this is `uint16`.\n",
    "* A lot of image processing requires continuous pixel values, i.e. decimals between 0 and 1.\n",
    "  * In NumPy these values are `float`.\n",
    "* Up to 16-bit, computers use unsigned integers to represent pixel values; however, 32 and 64-bit images will likely use `float` (continous numbers with decimal points). Each has its benefits.\n",
    "* It is always possible to process images in a higher bit-depth container/array without lose of data, e.g. converting an 8-bit image to a `float` array; but be wary of accidentally doing things the other way, e.g. opening a 16-bit image in an `uint8` array."
   ]
  },
  {
   "cell_type": "markdown",
   "metadata": {
    "slideshow": {
     "slide_type": "subslide"
    }
   },
   "source": [
    "![The bit-depth of an image describes the dynamic range of a pixel, i.e. the difference between the minimum and maximum pixel values.](./assets/bitdepth.png)\n",
    "\n",
    "*Courtesy of Dominic Waithe; apple from https://www.wikipedia.org*"
   ]
  },
  {
   "cell_type": "markdown",
   "metadata": {},
   "source": [
    "## Key Points\n",
    "\n",
    "* `numpy` arrays can be used to store and manipulate digital images\n",
    "* An array element is equivalent to a pixel in a digital image\n",
    "* Each array axis represents a dimension of the image, e.g. in a 2D greyscale image axis 0 is x and axis 1 is y\n",
    "* A third axis can include colour/spectral information\n",
    "* The `shape` of a NumPy array corresponds to the image resolution, i.e. the number of pixels in the image\n",
    "* However, spatial sampling, e.g. how big a pixel is, is not intrinsically included in a NumPy array\n",
    "* Intensity sampling, e.g. bit-depth, of an image maps to the `dtype` of NumPY arrays, e.g. 8-bit maps to 'uint8' and 16-bit to 'uint16'"
   ]
  },
  {
   "cell_type": "markdown",
   "metadata": {},
   "source": [
    "## Any Bugs/Issues/Comments?\n",
    "\n",
    "If you've found a bug or have any comments about this notebook, please fill out this on-line form:\n",
    "\n",
    "Any feedback I get I will try to correct/implement as soon as possible."
   ]
  }
 ],
 "metadata": {
  "kernelspec": {
   "display_name": "Python 3",
   "language": "python",
   "name": "python3"
  },
  "language_info": {
   "codemirror_mode": {
    "name": "ipython",
    "version": 3
   },
   "file_extension": ".py",
   "mimetype": "text/x-python",
   "name": "python",
   "nbconvert_exporter": "python",
   "pygments_lexer": "ipython3",
   "version": "3.8.2"
  }
 },
 "nbformat": 4,
 "nbformat_minor": 4
}
