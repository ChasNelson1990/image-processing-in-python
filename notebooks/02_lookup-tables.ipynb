{
 "cells": [
  {
   "cell_type": "markdown",
   "metadata": {
    "slideshow": {
     "slide_type": "slide"
    }
   },
   "source": [
    "# Look-Up Tables\n",
    "\n",
    "*Dr Chas Nelson*\n",
    "\n",
    "*Part of https://github.com/ChasNelson1990/image-processing-in-python*"
   ]
  },
  {
   "cell_type": "markdown",
   "metadata": {
    "slideshow": {
     "slide_type": "slide"
    }
   },
   "source": [
    "## Objectives\n",
    "\n",
    "* Understand that any greyscale image (or individual channel of a colour image) can be visualised with a range of colours\n",
    "* Know how to apply a standard Look-up Table when visualising a 2D greyscale image\n",
    "* Be able to visual a composite of a multi-channel 2D image"
   ]
  },
  {
   "cell_type": "markdown",
   "metadata": {
    "slideshow": {
     "slide_type": "slide"
    }
   },
   "source": [
    "## Look-up Tables (LUTs)\n",
    "\n",
    "* Pixel values can be visualised with a range of different colours.\n",
    "* The 'mapping' from a grayscale value to a colour is done through a Look-Up Table (LUT)\n",
    "* It's important to be aware that there are good and bad LUTs - some, like Jet, are not perceptually uniform and will artificially highlight the yellow-red features.\n",
    "  * Poor use of mapping can create perceptual changes that are independent of the underlying pixel value"
   ]
  },
  {
   "cell_type": "code",
   "execution_count": null,
   "metadata": {
    "slideshow": {
     "slide_type": "slide"
    }
   },
   "outputs": [],
   "source": [
    "# Create an array of a Guassian disc with values between 0 and 4096 (exclusive)\n",
    "# The array has ten rows and fifteen columns\n",
    "\n",
    "rows = 10\n",
    "columns = 15\n",
    "x, y = np.meshgrid(np.linspace(-1,1,columns), np.linspace(-1,1,rows))\n",
    "d = np.sqrt(x*x+y*y)\n",
    "sigma = 0.5\n",
    "my12BitArray = ((2**12-1)*np.exp(-( (d)**2 / ( 2.0 * sigma**2 ) ) )).astype('uint16')  # note how 12 bits are stored in a 16-bit array\n",
    "\n",
    "f, axes = plt.subplots(2,3)  # Create six subplots (2x3 grid)\n",
    "(aG, aS, aV, aH, aRB, aHSV) = axes.flatten()\n",
    "\n",
    "aG.imshow(my12BitArray, cmap=\"gray\", vmin=0, vmax=(2**16)-1)\n",
    "aG.set_axis_off()\n",
    "aG.set_title(\"Gray (not scaled)\")\n",
    "\n",
    "aS.imshow(my12BitArray, cmap=\"gray\")\n",
    "aS.set_axis_off()\n",
    "aS.set_title(\"Gray (scaled)\")\n",
    "\n",
    "aV.imshow(my12BitArray, cmap=\"viridis\")  # also check out 'magma'\n",
    "aV.set_axis_off()\n",
    "aV.set_title(\"Viridis (perceptually uniform)\")\n",
    "\n",
    "aH.imshow(my12BitArray, cmap=\"hot\")\n",
    "aH.set_axis_off()\n",
    "aH.set_title(\"Hot (squential colormap)\")\n",
    "\n",
    "aRB.imshow(my12BitArray, cmap=\"RdBu\")\n",
    "aRB.set_axis_off()\n",
    "aRB.set_title(\"RdBu (diverging colormap)\")\n",
    "\n",
    "aHSV.imshow(my12BitArray, cmap=\"hsv\")\n",
    "aHSV.set_axis_off()\n",
    "aHSV.set_title(\"HSV (not perceptually uniform)\")\n",
    "\n",
    "plt.show()"
   ]
  },
  {
   "cell_type": "markdown",
   "metadata": {
    "slideshow": {
     "slide_type": "notes"
    }
   },
   "source": [
    "## Composites\n",
    "\n",
    "* Different channels/colours of an image can be combined to create a composite image.\n",
    "* We're all used to seeing RGB composite images everyday.\n",
    "* However, in microscopy, we can choose the LUTs used for independent channels giving us greater flexibility.\n",
    "* Bear in mind that some colours, e.g. the ubiquitous red-green pairing, are not colourblind friendly.\n",
    "  * To get around this, we recommend always showing invidiual channels in grayscale and, for composites, using green-magenta or green-cyan colour pairs."
   ]
  },
  {
   "cell_type": "code",
   "execution_count": null,
   "metadata": {},
   "outputs": [],
   "source": [
    "# Create an array of offset Guassian discs with values between 0 and 1024 (exclusive)\n",
    "# The array has ten rows and fifteen columns and two channels\n",
    "\n",
    "rows = 10\n",
    "columns = 15\n",
    "x, y = np.meshgrid(np.linspace(-1,1,columns), np.linspace(-1,1,rows))\n",
    "d = np.sqrt(x*x+y*y)\n",
    "sigma = 0.5\n",
    "disc = ((2**8-1)*np.exp(-( (d)**2 / ( 2.0 * sigma**2 ) ))).astype('uint8')\n",
    "my2ChannelArray = np.stack([disc,np.roll(disc,1,axis=0)],axis=2)\n",
    "\n",
    "f, axes = plt.subplots(1,3)  # Create three subplots (1x3 grid)\n",
    "(c1, c2, comp) = axes.flatten()\n",
    "\n",
    "c1.imshow(my2ChannelArray[:,:,0], cmap=\"gray\")\n",
    "c1.set_axis_off()\n",
    "c1.set_title(\"Channel 1\")\n",
    "\n",
    "c2.imshow(my2ChannelArray[:,:,1], cmap=\"gray\")\n",
    "c2.set_axis_off()\n",
    "c2.set_title(\"Channel 2\")\n",
    "\n",
    "# Make a green-magenta mapping of the two channels and move colour to end dimension\n",
    "green_magenta = np.moveaxis([my2ChannelArray[:,:,1],my2ChannelArray[:,:,0],my2ChannelArray[:,:,1]],0,-1)\n",
    "\n",
    "comp.imshow(green_magenta)\n",
    "comp.set_axis_off()\n",
    "comp.set_title(\"Composite\")\n",
    "\n",
    "plt.show()"
   ]
  },
  {
   "cell_type": "markdown",
   "metadata": {},
   "source": [
    "## Key Points\n",
    "\n",
    "* LUTs allow the visualisation of images with different colurs\n",
    "* Some colourmaps are not perceptually uniform and so highlight false features\n",
    "* By combining channels from a colour image it is possible to visualise a composite image"
   ]
  },
  {
   "cell_type": "markdown",
   "metadata": {},
   "source": [
    "## Any Bugs/Issues/Comments?\n",
    "\n",
    "If you've found a bug or have any comments about this notebook, please fill out this on-line form:\n",
    "\n",
    "Any feedback I get I will try to correct/implement as soon as possible."
   ]
  }
 ],
 "metadata": {
  "kernelspec": {
   "display_name": "Python 3",
   "language": "python",
   "name": "python3"
  },
  "language_info": {
   "codemirror_mode": {
    "name": "ipython",
    "version": 3
   },
   "file_extension": ".py",
   "mimetype": "text/x-python",
   "name": "python",
   "nbconvert_exporter": "python",
   "pygments_lexer": "ipython3",
   "version": "3.8.2"
  }
 },
 "nbformat": 4,
 "nbformat_minor": 4
}
