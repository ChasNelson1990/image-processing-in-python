{
 "cells": [
  {
   "cell_type": "markdown",
   "metadata": {
    "slideshow": {
     "slide_type": "slide"
    }
   },
   "source": [
    "# Histograms and Histogram Equalisation\n",
    "\n",
    "*Dr Chas Nelson*\n",
    "\n",
    "*Part of https://github.com/ChasNelson1990/image-processing-in-python*"
   ]
  },
  {
   "cell_type": "markdown",
   "metadata": {
    "slideshow": {
     "slide_type": "subslide"
    }
   },
   "source": [
    "## Objectives\n",
    "\n",
    "* Extract and plot a histogram of a multidimensional image\n",
    "* **HISTOGRAM EQUALISATION**"
   ]
  },
  {
   "cell_type": "markdown",
   "metadata": {},
   "source": [
    "## Histograms\n",
    "\n",
    "* Finally, we often want to see the distribution of intensities for an image, channel or region of an image.\n",
    "* This can be quckly accomplished using the plotting package [`seaborn`](https://seaborn.pydata.org)."
   ]
  },
  {
   "cell_type": "code",
   "execution_count": null,
   "metadata": {},
   "outputs": [],
   "source": [
    "# Plot Each Channel (Z-MIP) and histogram\n",
    "f, axes = plt.subplots(2,4)  # Create eight subplots (2x4 grid)\n",
    "(i0, i1, i2, i3, h0, h1, h2, h3) = axes.flatten()\n",
    "\n",
    "i0.imshow(c0.max(axis=0), cmap=\"gray\", interpolation='none')\n",
    "i0.set_axis_off()\n",
    "i0.set_title(\"Channel 0 Z-MIP\")\n",
    "\n",
    "sns.distplot(c0.flatten(),kde=False,ax=h0)\n",
    "h0.set_xlabel('Pixel Value')\n",
    "h0.set_ylabel('Count')\n",
    "\n",
    "i1.imshow(c1.max(axis=0), cmap=\"gray\", interpolation='none')\n",
    "i1.set_axis_off()\n",
    "i1.set_title(\"Channel 1 Z-MIP\")\n",
    "\n",
    "sns.distplot(c1.flatten(),kde=False,ax=h1)\n",
    "h1.set_xlabel('Pixel Value')\n",
    "# h1.set_ylabel('Count')\n",
    "\n",
    "i2.imshow(c2.max(axis=0), cmap=\"gray\", interpolation='none')\n",
    "i2.set_axis_off()\n",
    "i2.set_title(\"Channel 2 Z-MIP\")\n",
    "\n",
    "sns.distplot(c2.flatten(),kde=False,ax=h2)\n",
    "h2.set_xlabel('Pixel Value')\n",
    "# h2.set_ylabel('Count')\n",
    "\n",
    "i3.imshow(c3.max(axis=0), cmap=\"gray\", interpolation='none')\n",
    "i3.set_axis_off()\n",
    "i3.set_title(\"Channel 3 Z-MIP\")\n",
    "\n",
    "sns.distplot(c3.flatten(),kde=False,ax=h3)\n",
    "h3.set_xlabel('Pixel Value')\n",
    "# h3.set_ylabel('Count')\n",
    "\n",
    "plt.show()"
   ]
  },
  {
   "cell_type": "markdown",
   "metadata": {},
   "source": [
    "## Histogram Equalisation\n",
    "\n",
    "* As previously mentioned, image data may not spread across the whole bit-depth (`dtype`) of an image (array).\n",
    "* The submodule `skimage.exposure` provides a range of functions for spreading an image's intensity over the full range.\n",
    "* The simplest approach to this is to rescale the intensity levels."
   ]
  },
  {
   "cell_type": "code",
   "execution_count": null,
   "metadata": {},
   "outputs": [],
   "source": [
    "# Read a multidimensional TIF file, in this case a single channel with multiple z-slices.\n",
    "myStack = io.imread('./assets/bbbc034v1/AICS_12_134_C=1.tif')\n",
    "\n",
    "# Metadata for future use later\n",
    "x_pixel_size = 65  # nm\n",
    "y_pixel_size = 65  # nm\n",
    "z_pixel_size = 290  # nm\n",
    "\n",
    "# Take single slice\n",
    "mySlice = myStack[26,:,:]"
   ]
  },
  {
   "cell_type": "markdown",
   "metadata": {},
   "source": [
    "<div style=\"background-color:#abd9e9; border-radius: 5px; padding: 10pt\"><strong>Task:</strong> Create a new cell below and use the <a href='https://scikit-image.org/docs/stable/api/skimage.exposure.html#skimage.exposure.rescale_intensity'><code>skimage.exposure.rescale_intensity()</code></a> function to rescale `mySlice` from 16-bit (assume it uses the full range) to 8-bit values. Check that the np array dtype is correct. Plot the two images side by side and their histograms beneath.</div>"
   ]
  },
  {
   "cell_type": "markdown",
   "metadata": {},
   "source": [
    "<div style=\"background-color:#abd9e9; border-radius: 5px; padding: 10pt\"><strong>Task:</strong> Now create a new cell below and map the data to the full 16-bit range. Check that the np array dtype is correct. Plot the two images side by side (use a full 16-bit colour mapping) and their histograms beneath.</div>"
   ]
  },
  {
   "cell_type": "markdown",
   "metadata": {},
   "source": [
    "<div style=\"background-color:#abd9e9; border-radius: 5px; padding: 10pt\"><strong>Task:</strong> Now create a new cell below and, using the codes above and the following tutorial, create a figure howing the original image, constrast stretched image, histogram equalised image and adaptive histogram equalised image, all with their histograms. You can find the tutorial at: <a href=\"https://scikit-image.org/docs/stable/auto_examples/color_exposure/plot_equalize.html#sphx-glr-auto-examples-color-exposure-plot-equalize-py\">https://scikit-image.org/docs/stable/auto_examples/color_exposure/plot_equalize.html#sphx-glr-auto-examples-color-exposure-plot-equalize-py</a>.</div>"
   ]
  },
  {
   "cell_type": "markdown",
   "metadata": {},
   "source": [
    "## Keypoints\n",
    "\n",
    "* We can use `seaborn` to quickly plot a histogram (`distplot`) of our image/array\n",
    "* **HISTOGRAM EQUALISATION**"
   ]
  },
  {
   "cell_type": "markdown",
   "metadata": {},
   "source": [
    "## Any Bugs/Issues/Comments?\n",
    "\n",
    "If you've found a bug or have any comments about this notebook, please fill out this on-line form:\n",
    "\n",
    "Any feedback I get I will try to correct/implement as soon as possible."
   ]
  }
 ],
 "metadata": {
  "kernelspec": {
   "display_name": "Python 3",
   "language": "python",
   "name": "python3"
  },
  "language_info": {
   "codemirror_mode": {
    "name": "ipython",
    "version": 3
   },
   "file_extension": ".py",
   "mimetype": "text/x-python",
   "name": "python",
   "nbconvert_exporter": "python",
   "pygments_lexer": "ipython3",
   "version": "3.8.2"
  },
  "widgets": {
   "application/vnd.jupyter.widget-state+json": {
    "state": {},
    "version_major": 2,
    "version_minor": 0
   }
  }
 },
 "nbformat": 4,
 "nbformat_minor": 4
}
