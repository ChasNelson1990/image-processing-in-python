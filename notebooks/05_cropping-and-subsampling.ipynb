{
 "cells": [
  {
   "cell_type": "markdown",
   "metadata": {
    "slideshow": {
     "slide_type": "slide"
    }
   },
   "source": [
    "# Cropping, Sampling and Resampling\n",
    "\n",
    "*Dr Chas Nelson*\n",
    "\n",
    "*Part of https://github.com/ChasNelson1990/image-processing-in-python*"
   ]
  },
  {
   "cell_type": "markdown",
   "metadata": {
    "slideshow": {
     "slide_type": "slide"
    }
   },
   "source": [
    "## Objectives\n",
    "\n",
    "* Know how to use built-in NumPy array tools to crop images\n",
    "* Know how to use built-in NumPy array tools to sample pixels within images\n",
    "* **RESIZING**\n",
    "* **RESAMPLING/INTERPOLATING**"
   ]
  },
  {
   "cell_type": "markdown",
   "metadata": {},
   "source": [
    "## Using NumPy Indexing to Crop and Subsample\n",
    "* Because we're usijng NumPy arrays to hold our image data, we can make use of all the benefits of NumPy Arrays\n",
    "  * For example, we've already used `ndarray.max()` to calculate maximum intensity projections along an axis (dimension)\n",
    "* One such advantage is NumPy indexing.\n",
    "* Indexing allows us to crop our image, quickly subsampe our image (not the same as resizing properly), quickly extract the intensity for a list of pixels, e.g. pixels denoting a segmentented object."
   ]
  },
  {
   "cell_type": "code",
   "execution_count": null,
   "metadata": {},
   "outputs": [],
   "source": [
    "# Use a single plane from a 3D image array\n",
    "mySlice =  c1[22,:,:]  # we've already seen this in our slice viewer above\n",
    "\n",
    "# Plot\n",
    "f, ax = plt.subplots(1,1)  # Create one subplot (1x1 grid)\n",
    "ax.grid(False)\n",
    "ax.imshow(mySlice, cmap='gray', interpolation='none')\n",
    "\n",
    "plt.show()"
   ]
  },
  {
   "cell_type": "code",
   "execution_count": null,
   "metadata": {},
   "outputs": [],
   "source": [
    "# Crop a 2D image in x and y\n",
    "x_start = 256\n",
    "y_start = 256\n",
    "x_end = 768\n",
    "y_end = 768\n",
    "\n",
    "myCrop = mySlice[x_start:x_end,y_start:y_end]\n",
    "\n",
    "# Plot\n",
    "f, axes = plt.subplots(1,2)  # Create one subplot (1x2 grid)\n",
    "(aS, aC) = axes.flatten()\n",
    "\n",
    "aS.grid(False)\n",
    "aS.imshow(mySlice, cmap='gray', interpolation='none')\n",
    "aS.set_title('Full image')\n",
    "\n",
    "aC.grid(False)\n",
    "aC.imshow(myCrop, cmap='gray', interpolation='none')\n",
    "aC.set_title('Cropped image')\n",
    "\n",
    "plt.show()"
   ]
  },
  {
   "cell_type": "code",
   "execution_count": null,
   "metadata": {},
   "outputs": [],
   "source": [
    "# Quickly subsample a 2D image by taking every fourth pixel in x and y\n",
    "# Note we can resize more cleverly using interpolation methods\n",
    "mySubsample = mySlice[::4,::4]\n",
    "\n",
    "# Plot\n",
    "f, axes = plt.subplots(1,2)  # Create one subplot (1x2 grid)\n",
    "(aF, aS) = axes.flatten()\n",
    "\n",
    "aF.grid(False)\n",
    "aF.imshow(mySlice, cmap='gray', interpolation='none')\n",
    "aF.set_title('Full image')\n",
    "\n",
    "aS.grid(False)\n",
    "aS.imshow(mySubsample, cmap='gray', interpolation='none')\n",
    "aS.set_title('Subsampled image')\n",
    "\n",
    "plt.show()"
   ]
  },
  {
   "cell_type": "code",
   "execution_count": null,
   "metadata": {},
   "outputs": [],
   "source": [
    "# Explore the statistics of a list of pixels, e.g. a segmented area\n",
    "myPixelIdx = np.meshgrid(np.arange(128,256),np.arange(512,768))\n",
    "myPixelIdx = tuple(myPixelIdx)  # this future proofs us\n",
    "myPixelVal = mySlice[myPixelIdx]\n",
    "\n",
    "print('Region has a mean value of {0} and ranges between {1} and {2}.'.format(myPixelVal.mean(),myPixelVal.min(),myPixelVal.max()))\n",
    "\n",
    "# Plot our image with the pixel's we investigated as white (actually use the region max).\n",
    "myEditedSlice = mySlice.copy()\n",
    "myEditedSlice[myPixelIdx] = myPixelVal.max()\n",
    "f, ax = plt.subplots(1,1)  # Create one subplot (1x1 grid)\n",
    "ax.grid(False)\n",
    "ax.imshow(myEditedSlice, cmap='gray', interpolation='none')\n",
    "\n",
    "plt.show()"
   ]
  },
  {
   "cell_type": "markdown",
   "metadata": {},
   "source": [
    "## Resizing, Resampling and Interpolating an Image"
   ]
  },
  {
   "cell_type": "code",
   "execution_count": null,
   "metadata": {},
   "outputs": [],
   "source": []
  },
  {
   "cell_type": "markdown",
   "metadata": {},
   "source": [
    "## Key Points\n",
    "\n",
    "* NumPy slicing and indexing allows us to access crop and subsample from images\n",
    "* **RESIZING**\n",
    "* **RESAMPLING/INTERPOLATING**"
   ]
  },
  {
   "cell_type": "markdown",
   "metadata": {},
   "source": [
    "## Any Bugs/Issues/Comments?\n",
    "\n",
    "If you've found a bug or have any comments about this notebook, please fill out this on-line form:\n",
    "\n",
    "Any feedback I get I will try to correct/implement as soon as possible."
   ]
  }
 ],
 "metadata": {
  "kernelspec": {
   "display_name": "Python 3",
   "language": "python",
   "name": "python3"
  },
  "language_info": {
   "codemirror_mode": {
    "name": "ipython",
    "version": 3
   },
   "file_extension": ".py",
   "mimetype": "text/x-python",
   "name": "python",
   "nbconvert_exporter": "python",
   "pygments_lexer": "ipython3",
   "version": "3.8.2"
  }
 },
 "nbformat": 4,
 "nbformat_minor": 4
}
